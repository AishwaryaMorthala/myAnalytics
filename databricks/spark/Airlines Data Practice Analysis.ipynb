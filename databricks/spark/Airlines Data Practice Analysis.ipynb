{
 "cells": [
  {
   "cell_type": "markdown",
   "metadata": {
    "application/vnd.databricks.v1+cell": {
     "cellMetadata": {
      "byteLimit": 2048000,
      "rowLimit": 10000
     },
     "inputWidgets": {},
     "nuid": "a9786e0d-b32a-4dcd-9135-4f8b0379fa26",
     "showTitle": false,
     "title": ""
    }
   },
   "source": [
    "\n",
    "# Creating dataframe from csv filename should be passed from widgets. try if you can give from pipleine base parameter"
   ]
  },
  {
   "cell_type": "code",
   "execution_count": 0,
   "metadata": {
    "application/vnd.databricks.v1+cell": {
     "cellMetadata": {
      "byteLimit": 2048000,
      "rowLimit": 10000
     },
     "inputWidgets": {},
     "nuid": "def5ff6e-210a-4b36-83e6-4fe033a1b0ad",
     "showTitle": false,
     "title": ""
    }
   },
   "outputs": [],
   "source": [
    "from pyspark.sql.functions import*"
   ]
  },
  {
   "cell_type": "code",
   "execution_count": 0,
   "metadata": {
    "application/vnd.databricks.v1+cell": {
     "cellMetadata": {
      "byteLimit": 2048000,
      "rowLimit": 10000
     },
     "inputWidgets": {},
     "nuid": "66b1789f-3cd0-48dd-9f38-a923b8dca605",
     "showTitle": false,
     "title": ""
    }
   },
   "outputs": [],
   "source": [
    "filename=dbutils.widgets.text(\"Filename\",\"\")\n"
   ]
  },
  {
   "cell_type": "code",
   "execution_count": 0,
   "metadata": {
    "application/vnd.databricks.v1+cell": {
     "cellMetadata": {
      "byteLimit": 2048000,
      "rowLimit": 10000
     },
     "inputWidgets": {},
     "nuid": "51f6e710-5c3f-47dd-a8df-9ebc44b83a8d",
     "showTitle": false,
     "title": ""
    }
   },
   "outputs": [],
   "source": [
    "filename=dbutils.widgets.get(\"ADF_input\")\n",
    "df_file=spark.read.csv(filename, header=True, sep=',')"
   ]
  },
  {
   "cell_type": "markdown",
   "metadata": {
    "application/vnd.databricks.v1+cell": {
     "cellMetadata": {
      "byteLimit": 2048000,
      "rowLimit": 10000
     },
     "inputWidgets": {},
     "nuid": "1538a359-8dde-42a8-806d-40064130a7d8",
     "showTitle": false,
     "title": ""
    }
   },
   "source": [
    "#Check the dataframe created"
   ]
  },
  {
   "cell_type": "code",
   "execution_count": 0,
   "metadata": {
    "application/vnd.databricks.v1+cell": {
     "cellMetadata": {
      "byteLimit": 2048000,
      "rowLimit": 10000
     },
     "inputWidgets": {},
     "nuid": "ed22a85a-cd77-4d3e-87cd-3e13aab26f05",
     "showTitle": false,
     "title": ""
    }
   },
   "outputs": [],
   "source": [
    "df_file.show(10,False)"
   ]
  },
  {
   "cell_type": "markdown",
   "metadata": {
    "application/vnd.databricks.v1+cell": {
     "cellMetadata": {
      "byteLimit": 2048000,
      "rowLimit": 10000
     },
     "inputWidgets": {},
     "nuid": "12378654-9d2a-45a1-a1c4-7b03be256e8f",
     "showTitle": false,
     "title": ""
    }
   },
   "source": [
    "#Filter the data to find the values where the ArrDelay and DeptDelay are greater than zero because time cannot be in negative."
   ]
  },
  {
   "cell_type": "code",
   "execution_count": 0,
   "metadata": {
    "application/vnd.databricks.v1+cell": {
     "cellMetadata": {
      "byteLimit": 2048000,
      "rowLimit": 10000
     },
     "inputWidgets": {},
     "nuid": "16175cca-e92d-4795-9031-5f538547a31c",
     "showTitle": false,
     "title": ""
    }
   },
   "outputs": [],
   "source": [
    "df_file.dtypes"
   ]
  },
  {
   "cell_type": "code",
   "execution_count": 0,
   "metadata": {
    "application/vnd.databricks.v1+cell": {
     "cellMetadata": {
      "byteLimit": 2048000,
      "rowLimit": 10000
     },
     "inputWidgets": {},
     "nuid": "bf1c8e8c-7b4a-4643-83d8-8e927acb6535",
     "showTitle": false,
     "title": ""
    }
   },
   "outputs": [],
   "source": [
    "df_slected=df_file.select(\"Year\",\"Month\",\"DayofMonth\",\"DayOfWeek\",\"DepTime\",\"DepDelay\",\"ArrTime\",\"ArrDelay\",\"Dest\",\"Origin\")\n",
    "df_slected.show()"
   ]
  },
  {
   "cell_type": "code",
   "execution_count": 0,
   "metadata": {
    "application/vnd.databricks.v1+cell": {
     "cellMetadata": {
      "byteLimit": 2048000,
      "rowLimit": 10000
     },
     "inputWidgets": {},
     "nuid": "2457c026-7e30-4761-9bb9-e4f2df4017b4",
     "showTitle": false,
     "title": ""
    }
   },
   "outputs": [],
   "source": [
    "df_filt=df_slected.filter((col(\"DepDelay\")>0) & (col(\"ArrDelay\")>0))\n",
    "df_filt.show()"
   ]
  },
  {
   "cell_type": "markdown",
   "metadata": {
    "application/vnd.databricks.v1+cell": {
     "cellMetadata": {
      "byteLimit": 2048000,
      "rowLimit": 10000
     },
     "inputWidgets": {},
     "nuid": "1b96a612-a872-4563-83c9-4915f27d3985",
     "showTitle": false,
     "title": ""
    }
   },
   "source": [
    "# Apply 'groupby' on Destination and summarize by mean on arrival delay.\n",
    "\n",
    "# Sort it in a descending order to identify the airport with the highest arrival delay."
   ]
  },
  {
   "cell_type": "code",
   "execution_count": 0,
   "metadata": {
    "application/vnd.databricks.v1+cell": {
     "cellMetadata": {
      "byteLimit": 2048000,
      "rowLimit": 10000
     },
     "inputWidgets": {},
     "nuid": "b09301be-db35-4bab-a928-2363bc0fd13d",
     "showTitle": false,
     "title": ""
    }
   },
   "outputs": [],
   "source": [
    "from pyspark.sql.functions import col, desc\n",
    "\n",
    "df_grouped = df_filt.groupby(\"Dest\").agg(mean(\"ArrDelay\").alias(\"MeanArrdelay\")).sort(col(\"MeanArrdelay\"),ascending=False)\n",
    "df_grouped.show()"
   ]
  },
  {
   "cell_type": "code",
   "execution_count": 0,
   "metadata": {
    "application/vnd.databricks.v1+cell": {
     "cellMetadata": {
      "byteLimit": 2048000,
      "rowLimit": 10000
     },
     "inputWidgets": {},
     "nuid": "01004108-b61c-4e58-8d51-2c546a41a524",
     "showTitle": false,
     "title": ""
    }
   },
   "outputs": [],
   "source": [
    "from datetime import datetime\n",
    "date=datetime.now()\n",
    "display(date)"
   ]
  },
  {
   "cell_type": "markdown",
   "metadata": {
    "application/vnd.databricks.v1+cell": {
     "cellMetadata": {
      "byteLimit": 2048000,
      "rowLimit": 10000
     },
     "inputWidgets": {},
     "nuid": "8aeadc61-6714-4973-bd08-337c8539ee77",
     "showTitle": false,
     "title": ""
    }
   },
   "source": [
    "# write dataframe into adls entity/yyy/mm/dd and delta tables"
   ]
  },
  {
   "cell_type": "code",
   "execution_count": 0,
   "metadata": {
    "application/vnd.databricks.v1+cell": {
     "cellMetadata": {
      "byteLimit": 2048000,
      "rowLimit": 10000
     },
     "inputWidgets": {},
     "nuid": "bb1d8fbb-e037-4121-b51e-253e4020036c",
     "showTitle": false,
     "title": ""
    }
   },
   "outputs": [],
   "source": [
    "year=datetime.now().strftime(\"%Y\")\n",
    "month=datetime.now().strftime(\"%m\")\n",
    "day=datetime.now().strftime(\"%d\")\n",
    "date=datetime.now().strftime(\"%D\")\n",
    "display(day)"
   ]
  },
  {
   "cell_type": "code",
   "execution_count": 0,
   "metadata": {
    "application/vnd.databricks.v1+cell": {
     "cellMetadata": {
      "byteLimit": 2048000,
      "rowLimit": 10000
     },
     "inputWidgets": {},
     "nuid": "11ab0c46-6caa-44f2-a0ba-3daac41499dc",
     "showTitle": false,
     "title": ""
    }
   },
   "outputs": [],
   "source": [
    "df_grouped.write.format(\"csv\").option(\"header\", True).mode(\"overwrite\").save('/mnt/adlstestcontainer/Test/AirlinesData/' + year + '/' + month + '/' + day)"
   ]
  },
  {
   "cell_type": "code",
   "execution_count": 0,
   "metadata": {
    "application/vnd.databricks.v1+cell": {
     "cellMetadata": {
      "byteLimit": 2048000,
      "rowLimit": 10000
     },
     "inputWidgets": {},
     "nuid": "f82d7574-0a90-41bd-92cc-8ff42b07f6cf",
     "showTitle": false,
     "title": ""
    }
   },
   "outputs": [],
   "source": [
    "df_grouped.write.format(\"delta\").saveAsTable(\"sampledb.AirlinesData\"+year,mode=\"overwrite\")"
   ]
  },
  {
   "cell_type": "markdown",
   "metadata": {
    "application/vnd.databricks.v1+cell": {
     "cellMetadata": {
      "byteLimit": 2048000,
      "rowLimit": 10000
     },
     "inputWidgets": {},
     "nuid": "ac967db9-848d-40e4-86d1-c6f228b1353b",
     "showTitle": false,
     "title": ""
    }
   },
   "source": [
    "#Your Observation based on analysis can you tell me if airport has highest arrival or departure delay.Is action needed?"
   ]
  },
  {
   "cell_type": "code",
   "execution_count": 0,
   "metadata": {
    "application/vnd.databricks.v1+cell": {
     "cellMetadata": {
      "byteLimit": 2048000,
      "rowLimit": 10000
     },
     "inputWidgets": {},
     "nuid": "e62dbd3a-59ed-4c8a-a680-85f9129b3b3c",
     "showTitle": false,
     "title": ""
    }
   },
   "outputs": [],
   "source": [
    "df_grouped.show()"
   ]
  },
  {
   "cell_type": "code",
   "execution_count": 0,
   "metadata": {
    "application/vnd.databricks.v1+cell": {
     "cellMetadata": {},
     "inputWidgets": {},
     "nuid": "73a6cc2a-462f-4be0-b150-080073ed078a",
     "showTitle": false,
     "title": ""
    }
   },
   "outputs": [],
   "source": [
    "#yes"
   ]
  }
 ],
 "metadata": {
  "application/vnd.databricks.v1+notebook": {
   "dashboards": [],
   "language": "python",
   "notebookMetadata": {
    "pythonIndentUnit": 4
   },
   "notebookName": "Airlines Data Practice Analysis",
   "widgets": {
    "Filename": {
     "currentValue": "",
     "nuid": "64727bf3-d2cf-4c5e-b89c-64f7c3274b2c",
     "widgetInfo": {
      "widgetType": "text",
      "defaultValue": "",
      "label": null,
      "name": "Filename",
      "options": {
       "widgetType": "text",
       "autoCreated": null,
       "validationRegex": null
      }
     }
    }
   }
  },
  "kernelspec": {
   "display_name": "PySpark",
   "language": "python",
   "name": "pyspark"
  },
  "language_info": {
   "codemirror_mode": {
    "name": "ipython",
    "version": 3
   },
   "file_extension": ".py",
   "mimetype": "text/x-python",
   "name": "python",
   "nbconvert_exporter": "python",
   "pygments_lexer": "ipython3",
   "version": "3.6.5"
  }
 },
 "nbformat": 4,
 "nbformat_minor": 0
}
